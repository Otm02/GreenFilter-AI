{
  "nbformat": 4,
  "nbformat_minor": 0,
  "metadata": {
    "colab": {
      "provenance": [],
      "gpuType": "T4",
      "toc_visible": true,
      "include_colab_link": true
    },
    "kernelspec": {
      "name": "python3",
      "display_name": "Python 3"
    },
    "language_info": {
      "name": "python"
    },
    "accelerator": "GPU"
  },
  "cells": [
    {
      "cell_type": "markdown",
      "metadata": {
        "id": "view-in-github",
        "colab_type": "text"
      },
      "source": [
        "<a href=\"https://colab.research.google.com/github/Otm02/GreenFilter-AI/blob/main/GreenFilter_AI.ipynb\" target=\"_parent\"><img src=\"https://colab.research.google.com/assets/colab-badge.svg\" alt=\"Open In Colab\"/></a>"
      ]
    },
    {
      "cell_type": "markdown",
      "source": [
        "# Loading"
      ],
      "metadata": {
        "id": "qloLxJK_SnV5"
      }
    },
    {
      "cell_type": "code",
      "source": [
        "!pip install openai langdetect"
      ],
      "metadata": {
        "id": "THS1SDQe61uM"
      },
      "execution_count": null,
      "outputs": []
    },
    {
      "cell_type": "code",
      "source": [
        "import pandas as pd\n",
        "from transformers import AutoModelForCausalLM, AutoTokenizer\n",
        "import torch\n",
        "from google.colab import drive\n",
        "import tensorflow as tf\n",
        "from tensorflow.keras.models import Sequential\n",
        "from tensorflow.keras.layers import Embedding, LSTM, Bidirectional, Dropout, Dense\n",
        "from tensorflow.keras.preprocessing.text import Tokenizer\n",
        "from tensorflow.keras.preprocessing.sequence import pad_sequences\n",
        "import numpy as np\n",
        "import pickle\n",
        "from tensorflow.keras.callbacks import ReduceLROnPlateau, EarlyStopping, ModelCheckpoint, LearningRateScheduler\n",
        "from langdetect import detect, LangDetectException\n",
        "import openai\n"
      ],
      "metadata": {
        "id": "BdZTZhdaTNGn"
      },
      "execution_count": 8,
      "outputs": []
    },
    {
      "cell_type": "code",
      "source": [
        "# mount drive\n",
        "drive.mount('/content/drive')\n",
        "%cd \"/content/drive/My Drive/Colab Notebooks/AI EarthHack 2024/\""
      ],
      "metadata": {
        "id": "k3AaDCy_w-H3",
        "colab": {
          "base_uri": "https://localhost:8080/"
        },
        "outputId": "5a62c958-9ca0-480f-c586-63b797d90abd"
      },
      "execution_count": 2,
      "outputs": [
        {
          "output_type": "stream",
          "name": "stdout",
          "text": [
            "Mounted at /content/drive\n",
            "/content/drive/.shortcut-targets-by-id/1y7WCNGUK1n5cAbiR0Z5H06aPMJEUwHK_/AI EarthHack 2024\n"
          ]
        }
      ]
    },
    {
      "cell_type": "markdown",
      "source": [
        "# Data Cleaning"
      ],
      "metadata": {
        "id": "qPUGc0PATA8D"
      }
    },
    {
      "cell_type": "code",
      "source": [
        "# Load the provided CSV file (ours was edited using GPT 4 to add an isRelevant column based on its relevance to sustainability)\n",
        "df = pd.read_csv('Updated_EarthHack_Dataset.csv', encoding='ISO-8859-1')"
      ],
      "metadata": {
        "id": "9ZaaMpBeqezi"
      },
      "execution_count": null,
      "outputs": []
    },
    {
      "cell_type": "code",
      "source": [
        "key = input(\"Enter your API key for the OpenAI GPT-3.5 API: \")\n",
        "\n",
        "# Initialize the OpenAI API client\n",
        "client = OpenAI(api_key=key)\n",
        "\n",
        "#Function to determine if the problem and solution are relevant to environmental sustainability. It returns 1 if relevant, otherwise 0.\n",
        "def is_relevant_to_environmental_sustainability(problem, solution):\n",
        "    prompt = f\"Problem: {problem}\\nSolution: {solution}\\nIs this problem and solution relevant to environmental sustainability? Answer 1 for Yes and 0 for No.\"\n",
        "\n",
        "    try:\n",
        "        response = client.chat.completions.create(\n",
        "            model=\"gpt-3.5-turbo\",\n",
        "            messages=[\n",
        "              {\"role\": \"user\", \"content\": prompt}\n",
        "            ]\n",
        "        )\n",
        "        answer = response.choices[0].message\n",
        "        return 1 if answer == \"1\" else 0\n",
        "    except Exception as e:\n",
        "        print(f\"Error in processing: {e}\")\n",
        "        return 0\n",
        "\n",
        "# Add the column 'isRelevant' to the DataFrame\n",
        "df['isRelevant'] = df.apply(lambda row: is_relevant_to_environmental_sustainability(row['problem'], row['solution']), axis=1)"
      ],
      "metadata": {
        "id": "OOfytdSoqf1R"
      },
      "execution_count": null,
      "outputs": []
    },
    {
      "cell_type": "code",
      "execution_count": null,
      "metadata": {
        "id": "wRLQ6rFFvLHb"
      },
      "outputs": [],
      "source": [
        "# Function to remove odd characters and keep only ASCII\n",
        "def remove_odd_characters(text):\n",
        "    printable = set(string.printable)\n",
        "    return ''.join(filter(lambda x: x in printable, text))\n",
        "\n",
        "# Function to detect the language of the text using langdetect\n",
        "def detect_language(text):\n",
        "    try:\n",
        "        return detect(text)\n",
        "    except LangDetectException:\n",
        "        return \"unknown\"\n",
        "\n",
        "# Function to count the number of words\n",
        "def word_count(text):\n",
        "    return len(text.split())\n",
        "\n",
        "# Remove odd characters from problems and solutions\n",
        "df['problem'] = df['problem'].apply(lambda x: remove_odd_characters(str(x)))\n",
        "df['solution'] = df['solution'].apply(lambda x: remove_odd_characters(str(x)))\n",
        "\n",
        "# Convert text to lowercase for standardization\n",
        "df['problem'] = df['problem'].str.lower()\n",
        "df['solution'] = df['solution'].str.lower()\n",
        "\n",
        "# Filter out non-English entries and entries that are too short or too long\n",
        "df = df[(df['problem'].apply(detect_language) == 'en') &\n",
        "        (df['problem'].apply(word_count).between(5, 200)) &\n",
        "        (df['solution'].apply(word_count).between(5, 200))]\n",
        "\n",
        "# Drop rows with missing values in problem or solution\n",
        "df.dropna(subset=['problem', 'solution'], inplace=True)\n",
        "\n",
        "# Save the cleaned dataset\n",
        "df.to_csv('Cleaned_EarthHack_Dataset.csv', index=False)"
      ]
    },
    {
      "cell_type": "markdown",
      "source": [
        "# Modelling"
      ],
      "metadata": {
        "id": "dEuFeJ0cUghs"
      }
    },
    {
      "cell_type": "code",
      "source": [
        "dfTrain = pd.read_csv('Cleaned_EarthHack_Dataset.csv')"
      ],
      "metadata": {
        "id": "8CtAkhoHVkTL"
      },
      "execution_count": 4,
      "outputs": []
    },
    {
      "cell_type": "code",
      "source": [
        "#Classifies the entries based on if they are relevant or not.\n",
        "class_counts = dfTrain['isRelevant'].value_counts()\n",
        "print(class_counts)"
      ],
      "metadata": {
        "id": "Br5lU2mUKrQ0",
        "colab": {
          "base_uri": "https://localhost:8080/"
        },
        "outputId": "1264fbaa-ed32-47cf-c034-5b7b748b3a1b"
      },
      "execution_count": 5,
      "outputs": [
        {
          "output_type": "stream",
          "name": "stdout",
          "text": [
            "1    737\n",
            "0    129\n",
            "Name: isRelevant, dtype: int64\n"
          ]
        }
      ]
    },
    {
      "cell_type": "code",
      "source": [
        "\n",
        "min_class_count = class_counts.min()\n",
        "\n",
        "# This is to clearly separate the two classes. This will be used for preprocessing.\n",
        "df_class_0 = dfTrain[dfTrain['isRelevant'] == 0]\n",
        "df_class_1 = dfTrain[dfTrain['isRelevant'] == 1]\n",
        "\n",
        "# Sample from the majority class\n",
        "df_class_0_under = df_class_0.sample(min_class_count)\n",
        "df_class_1_under = df_class_1.sample(min_class_count)\n",
        "\n",
        "#Now that we separated and balanced the entries (to avoid training it only for positive ideas, which can lead to it not detecting patterns)\n",
        "df_train_balanced = pd.concat([df_class_0_under, df_class_1_under], axis=0)\n",
        "\n",
        "# Shuffle the dataset\n",
        "df_train_balanced = df_train_balanced.sample(frac=1).reset_index(drop=True)\n",
        "\n",
        "dfTrain = df_train_balanced\n"
      ],
      "metadata": {
        "id": "wIwH-aGwKpTq"
      },
      "execution_count": 6,
      "outputs": []
    },
    {
      "cell_type": "code",
      "source": [
        "from tensorflow.keras.preprocessing.text import Tokenizer\n",
        "from tensorflow.keras.preprocessing.sequence import pad_sequences\n",
        "\n",
        "#We're using tokenizer to generate numerical entries based on how common certain keywords are.\n",
        "tokenizer = Tokenizer()\n",
        "dfTrain['problem'] = dfTrain['problem'].astype('str')\n",
        "dfTrain['solution'] = dfTrain['solution'].astype('str')\n",
        "tokenizer.fit_on_texts(dfTrain['problem'] + ' ' + dfTrain['solution'])\n",
        "\n",
        "\n",
        "#The model requires a sequence.\n",
        "sequences = tokenizer.texts_to_sequences(dfTrain['problem'] + ' ' + dfTrain['solution'])\n",
        "\n",
        "#adjust this as needed, depending on the training data set.\n",
        "max_sequence_length = 206\n",
        "X = pad_sequences(sequences, maxlen=max_sequence_length)\n"
      ],
      "metadata": {
        "id": "9O0E5iFhWDGE"
      },
      "execution_count": 7,
      "outputs": []
    },
    {
      "cell_type": "code",
      "source": [
        "from tensorflow.keras.utils import to_categorical\n",
        "\n",
        "#Simply categorizes the entries on whether or not they are relevant or not, in a way that is good for tensorflow functions.\n",
        "y = to_categorical(dfTrain['isRelevant'])"
      ],
      "metadata": {
        "id": "P996EEJGYSw5"
      },
      "execution_count": 8,
      "outputs": []
    },
    {
      "cell_type": "code",
      "source": [
        "from sklearn.model_selection import train_test_split\n",
        "#Splits it for training and testing. Validation is done later.\n",
        "X_train, X_test, y_train, y_test = train_test_split(X, y, test_size=0.2, random_state=42)"
      ],
      "metadata": {
        "id": "QyRGC900bmaJ"
      },
      "execution_count": 9,
      "outputs": []
    },
    {
      "cell_type": "code",
      "source": [
        "print(X_train.shape) #This is just to know the dimension. \"max_sequence_length\" should be equal to the number that is displayed down here."
      ],
      "metadata": {
        "id": "Q609C9MDtI-U",
        "colab": {
          "base_uri": "https://localhost:8080/"
        },
        "outputId": "5b948b30-20e8-4097-c498-c36317f84aa1"
      },
      "execution_count": 10,
      "outputs": [
        {
          "output_type": "stream",
          "name": "stdout",
          "text": [
            "(206, 206)\n"
          ]
        }
      ]
    },
    {
      "cell_type": "code",
      "source": [
        "#Prepping up the variables to be used in the parameters.\n",
        "sequence_length = X_train.shape[0]\n",
        "input_dim =  1\n",
        "vocab_size = len(tokenizer.word_index)+1\n",
        "embedding_dim = 100\n",
        "\n",
        "print(\"sequence_length: {}\\ninput_dim: {}\".format(sequence_length, input_dim))\n",
        "#Adding the appropriate layers. LSTM is the recurrent part of our NN that we're gonna use to avoid the vanishing gradient problem.\n",
        "#Dropout introduces randomness to avoid overfitting (especially important with out small set of data...)\n",
        "#Dense is simply just several sub layers of neurons that all link to each other with their respective weights, all using the sigmoid activation, as we're addressing something binary.\n",
        "model = Sequential()\n",
        "model.add(Embedding(vocab_size, embedding_dim, input_length = max_sequence_length))\n",
        "model.add(Bidirectional(LSTM(64,return_sequences = True)))\n",
        "model.add(Dropout(0.5))\n",
        "model.add(Bidirectional(LSTM(32)))\n",
        "model.add(Dropout(0.5))\n",
        "model.add(Dense(units = 2, activation = 'sigmoid'))\n",
        "\n"
      ],
      "metadata": {
        "id": "8sbJzptCcPHE",
        "colab": {
          "base_uri": "https://localhost:8080/"
        },
        "outputId": "a4246875-8da8-41ef-da51-e1d90eb20274"
      },
      "execution_count": 11,
      "outputs": [
        {
          "output_type": "stream",
          "name": "stdout",
          "text": [
            "sequence_length: 206\n",
            "input_dim: 1\n"
          ]
        }
      ]
    },
    {
      "cell_type": "code",
      "source": [
        "#Sets the relevant parameters. This is generally what works for us.\n",
        "model.compile(optimizer='adam', loss='categorical_crossentropy', metrics=['accuracy'])\n",
        "model.learning_rate = 0.00001\n",
        "model.beta_1 = 0.9\n",
        "model.beta_2 = 0.999\n",
        "model.amsgrad = False"
      ],
      "metadata": {
        "id": "Nsa-lrNyhJrL"
      },
      "execution_count": 12,
      "outputs": []
    },
    {
      "cell_type": "code",
      "source": [
        "import numpy as np\n",
        "#This is because it expects a (N, N, 1) format.\n",
        "X_train = np.expand_dims(X_train, axis=-1)"
      ],
      "metadata": {
        "id": "aTvL-nJUqt5H"
      },
      "execution_count": 13,
      "outputs": []
    },
    {
      "cell_type": "code",
      "source": [
        "print(model.summary()) #To ensure that the layers are formed, also to know what output shapes it wants for debugging."
      ],
      "metadata": {
        "id": "_AfMsJevrsNc",
        "colab": {
          "base_uri": "https://localhost:8080/"
        },
        "outputId": "20edeb16-6cc5-4a2d-dd3b-7c9a05f49e44"
      },
      "execution_count": null,
      "outputs": [
        {
          "output_type": "stream",
          "name": "stdout",
          "text": [
            "Model: \"sequential\"\n",
            "_________________________________________________________________\n",
            " Layer (type)                Output Shape              Param #   \n",
            "=================================================================\n",
            " embedding (Embedding)       (None, 206, 100)          452000    \n",
            "                                                                 \n",
            " bidirectional (Bidirection  (None, 206, 128)          84480     \n",
            " al)                                                             \n",
            "                                                                 \n",
            " dropout (Dropout)           (None, 206, 128)          0         \n",
            "                                                                 \n",
            " bidirectional_1 (Bidirecti  (None, 64)                41216     \n",
            " onal)                                                           \n",
            "                                                                 \n",
            " dropout_1 (Dropout)         (None, 64)                0         \n",
            "                                                                 \n",
            " dense (Dense)               (None, 2)                 130       \n",
            "                                                                 \n",
            "=================================================================\n",
            "Total params: 577826 (2.20 MB)\n",
            "Trainable params: 577826 (2.20 MB)\n",
            "Non-trainable params: 0 (0.00 Byte)\n",
            "_________________________________________________________________\n",
            "None\n"
          ]
        }
      ]
    },
    {
      "cell_type": "code",
      "source": [
        "\n",
        "checkpointer = ModelCheckpoint(filepath=\"weights_GreenFilter.hdf5\", verbose=1, save_best_only=True)"
      ],
      "metadata": {
        "id": "sQgQAZnn45jt"
      },
      "execution_count": 27,
      "outputs": []
    },
    {
      "cell_type": "code",
      "source": [
        "\n",
        "print(X_train.shape)\n",
        "\n",
        "model.fit(X_train, y_train, epochs=20, batch_size=32, validation_split=0.1, callbacks = [checkpointer]) #The actual training for 20 epochs."
      ],
      "metadata": {
        "id": "WT66NoGHdi_m",
        "colab": {
          "base_uri": "https://localhost:8080/"
        },
        "outputId": "c6ffa3ce-808f-46e0-cd15-14751c8ee75f"
      },
      "execution_count": 28,
      "outputs": [
        {
          "output_type": "stream",
          "name": "stdout",
          "text": [
            "(206, 206, 1)\n",
            "Epoch 1/20\n",
            "6/6 [==============================] - ETA: 0s - loss: 0.0025 - accuracy: 1.0000\n",
            "Epoch 1: val_loss improved from inf to 1.02092, saving model to weights_GreenFilter.hdf5\n",
            "6/6 [==============================] - 3s 478ms/step - loss: 0.0025 - accuracy: 1.0000 - val_loss: 1.0209 - val_accuracy: 0.8095\n",
            "Epoch 2/20\n"
          ]
        },
        {
          "output_type": "stream",
          "name": "stderr",
          "text": [
            "/usr/local/lib/python3.10/dist-packages/keras/src/engine/training.py:3103: UserWarning: You are saving your model as an HDF5 file via `model.save()`. This file format is considered legacy. We recommend using instead the native Keras format, e.g. `model.save('my_model.keras')`.\n",
            "  saving_api.save_model(\n"
          ]
        },
        {
          "output_type": "stream",
          "name": "stdout",
          "text": [
            "6/6 [==============================] - ETA: 0s - loss: 0.0020 - accuracy: 1.0000\n",
            "Epoch 2: val_loss did not improve from 1.02092\n",
            "6/6 [==============================] - 3s 447ms/step - loss: 0.0020 - accuracy: 1.0000 - val_loss: 1.0404 - val_accuracy: 0.8095\n",
            "Epoch 3/20\n",
            "6/6 [==============================] - ETA: 0s - loss: 0.0018 - accuracy: 1.0000\n",
            "Epoch 3: val_loss did not improve from 1.02092\n",
            "6/6 [==============================] - 4s 699ms/step - loss: 0.0018 - accuracy: 1.0000 - val_loss: 1.0627 - val_accuracy: 0.8095\n",
            "Epoch 4/20\n",
            "6/6 [==============================] - ETA: 0s - loss: 0.0015 - accuracy: 1.0000\n",
            "Epoch 4: val_loss did not improve from 1.02092\n",
            "6/6 [==============================] - 4s 701ms/step - loss: 0.0015 - accuracy: 1.0000 - val_loss: 1.0866 - val_accuracy: 0.8095\n",
            "Epoch 5/20\n",
            "6/6 [==============================] - ETA: 0s - loss: 0.0020 - accuracy: 1.0000\n",
            "Epoch 5: val_loss did not improve from 1.02092\n",
            "6/6 [==============================] - 3s 454ms/step - loss: 0.0020 - accuracy: 1.0000 - val_loss: 1.1042 - val_accuracy: 0.8095\n",
            "Epoch 6/20\n",
            "6/6 [==============================] - ETA: 0s - loss: 0.0020 - accuracy: 1.0000\n",
            "Epoch 6: val_loss did not improve from 1.02092\n",
            "6/6 [==============================] - 3s 460ms/step - loss: 0.0020 - accuracy: 1.0000 - val_loss: 1.1236 - val_accuracy: 0.8095\n",
            "Epoch 7/20\n",
            "6/6 [==============================] - ETA: 0s - loss: 0.0012 - accuracy: 1.0000\n",
            "Epoch 7: val_loss did not improve from 1.02092\n",
            "6/6 [==============================] - 3s 450ms/step - loss: 0.0012 - accuracy: 1.0000 - val_loss: 1.1419 - val_accuracy: 0.8095\n",
            "Epoch 8/20\n",
            "6/6 [==============================] - ETA: 0s - loss: 0.0017 - accuracy: 1.0000\n",
            "Epoch 8: val_loss did not improve from 1.02092\n",
            "6/6 [==============================] - 4s 655ms/step - loss: 0.0017 - accuracy: 1.0000 - val_loss: 1.1570 - val_accuracy: 0.8095\n",
            "Epoch 9/20\n",
            "6/6 [==============================] - ETA: 0s - loss: 0.0020 - accuracy: 1.0000\n",
            "Epoch 9: val_loss did not improve from 1.02092\n",
            "6/6 [==============================] - 4s 731ms/step - loss: 0.0020 - accuracy: 1.0000 - val_loss: 1.1716 - val_accuracy: 0.8095\n",
            "Epoch 10/20\n",
            "6/6 [==============================] - ETA: 0s - loss: 9.3852e-04 - accuracy: 1.0000\n",
            "Epoch 10: val_loss did not improve from 1.02092\n",
            "6/6 [==============================] - 3s 459ms/step - loss: 9.3852e-04 - accuracy: 1.0000 - val_loss: 1.1855 - val_accuracy: 0.8095\n",
            "Epoch 11/20\n",
            "6/6 [==============================] - ETA: 0s - loss: 0.0021 - accuracy: 1.0000\n",
            "Epoch 11: val_loss did not improve from 1.02092\n",
            "6/6 [==============================] - 3s 453ms/step - loss: 0.0021 - accuracy: 1.0000 - val_loss: 1.2035 - val_accuracy: 0.8095\n",
            "Epoch 12/20\n",
            "6/6 [==============================] - ETA: 0s - loss: 6.5831e-04 - accuracy: 1.0000\n",
            "Epoch 12: val_loss did not improve from 1.02092\n",
            "6/6 [==============================] - 3s 469ms/step - loss: 6.5831e-04 - accuracy: 1.0000 - val_loss: 1.2248 - val_accuracy: 0.8095\n",
            "Epoch 13/20\n",
            "6/6 [==============================] - ETA: 0s - loss: 6.5599e-04 - accuracy: 1.0000\n",
            "Epoch 13: val_loss did not improve from 1.02092\n",
            "6/6 [==============================] - 3s 580ms/step - loss: 6.5599e-04 - accuracy: 1.0000 - val_loss: 1.6921 - val_accuracy: 0.7619\n",
            "Epoch 14/20\n",
            "6/6 [==============================] - ETA: 0s - loss: 8.7647e-04 - accuracy: 1.0000\n",
            "Epoch 14: val_loss did not improve from 1.02092\n",
            "6/6 [==============================] - 5s 766ms/step - loss: 8.7647e-04 - accuracy: 1.0000 - val_loss: 1.6878 - val_accuracy: 0.7619\n",
            "Epoch 15/20\n",
            "6/6 [==============================] - ETA: 0s - loss: 6.2921e-04 - accuracy: 1.0000\n",
            "Epoch 15: val_loss did not improve from 1.02092\n",
            "6/6 [==============================] - 4s 604ms/step - loss: 6.2921e-04 - accuracy: 1.0000 - val_loss: 1.7479 - val_accuracy: 0.7619\n",
            "Epoch 16/20\n",
            "6/6 [==============================] - ETA: 0s - loss: 4.1365e-04 - accuracy: 1.0000\n",
            "Epoch 16: val_loss did not improve from 1.02092\n",
            "6/6 [==============================] - 3s 452ms/step - loss: 4.1365e-04 - accuracy: 1.0000 - val_loss: 1.7812 - val_accuracy: 0.7619\n",
            "Epoch 17/20\n",
            "6/6 [==============================] - ETA: 0s - loss: 4.4494e-04 - accuracy: 1.0000\n",
            "Epoch 17: val_loss did not improve from 1.02092\n",
            "6/6 [==============================] - 3s 435ms/step - loss: 4.4494e-04 - accuracy: 1.0000 - val_loss: 1.8029 - val_accuracy: 0.7619\n",
            "Epoch 18/20\n",
            "6/6 [==============================] - ETA: 0s - loss: 5.3634e-04 - accuracy: 1.0000\n",
            "Epoch 18: val_loss did not improve from 1.02092\n",
            "6/6 [==============================] - 3s 602ms/step - loss: 5.3634e-04 - accuracy: 1.0000 - val_loss: 1.8168 - val_accuracy: 0.7619\n",
            "Epoch 19/20\n",
            "6/6 [==============================] - ETA: 0s - loss: 3.1229e-04 - accuracy: 1.0000\n",
            "Epoch 19: val_loss did not improve from 1.02092\n",
            "6/6 [==============================] - 6s 956ms/step - loss: 3.1229e-04 - accuracy: 1.0000 - val_loss: 1.8277 - val_accuracy: 0.7619\n",
            "Epoch 20/20\n",
            "6/6 [==============================] - ETA: 0s - loss: 2.6778e-04 - accuracy: 1.0000\n",
            "Epoch 20: val_loss did not improve from 1.02092\n",
            "6/6 [==============================] - 3s 461ms/step - loss: 2.6778e-04 - accuracy: 1.0000 - val_loss: 1.8387 - val_accuracy: 0.7619\n"
          ]
        },
        {
          "output_type": "execute_result",
          "data": {
            "text/plain": [
              "<keras.src.callbacks.History at 0x7f39302dca60>"
            ]
          },
          "metadata": {},
          "execution_count": 28
        }
      ]
    },
    {
      "cell_type": "code",
      "source": [
        "#Ensuring that our testing data is formatted properly for evaluation.\n",
        "X_test_reshaped = X_test.reshape((X_test.shape[0], sequence_length, input_dim))\n",
        "evaluation = model.evaluate(X_test_reshaped, y_test)\n",
        "\n",
        "\n",
        "\n",
        "print(f\"Test Accuracy: {evaluation[1]*100:.2f}%\")"
      ],
      "metadata": {
        "id": "oD2jOgZOhPwn",
        "colab": {
          "base_uri": "https://localhost:8080/"
        },
        "outputId": "2d3668d5-0e38-47e8-dff1-2c5f5a3660af"
      },
      "execution_count": 31,
      "outputs": [
        {
          "output_type": "stream",
          "name": "stdout",
          "text": [
            "2/2 [==============================] - 0s 89ms/step - loss: 1.5425 - accuracy: 0.7692\n",
            "Test Accuracy: 76.92%\n"
          ]
        }
      ]
    },
    {
      "cell_type": "code",
      "source": [
        "#This is just so that we can visually see a heatmap for the subsequent block for the training data.\n",
        "predicted_classes1 = np.argmax(model.predict(X_test), axis = -1)\n",
        "y_true = np.argmax(y_test, axis = -1)"
      ],
      "metadata": {
        "id": "CPAqPyyV7eV0",
        "colab": {
          "base_uri": "https://localhost:8080/"
        },
        "outputId": "7f5935f0-4d9b-4e69-9880-18194a70df26"
      },
      "execution_count": 32,
      "outputs": [
        {
          "output_type": "stream",
          "name": "stdout",
          "text": [
            "2/2 [==============================] - 0s 145ms/step\n"
          ]
        }
      ]
    },
    {
      "cell_type": "code",
      "source": [
        "from sklearn.metrics import confusion_matrix\n",
        "import matplotlib.pyplot as plt\n",
        "import seaborn as sns\n",
        "cm = confusion_matrix(y_true, predicted_classes1)\n",
        "plt.figure(figsize = (10,10))\n",
        "sns.heatmap(cm, annot = True, cbar = False)"
      ],
      "metadata": {
        "id": "N6YKxT-R7b81",
        "colab": {
          "base_uri": "https://localhost:8080/",
          "height": 847
        },
        "outputId": "1b09870f-a5c9-486c-91b6-d43c84d12364"
      },
      "execution_count": 33,
      "outputs": [
        {
          "output_type": "execute_result",
          "data": {
            "text/plain": [
              "<Axes: >"
            ]
          },
          "metadata": {},
          "execution_count": 33
        },
        {
          "output_type": "display_data",
          "data": {
            "text/plain": [
              "<Figure size 1000x1000 with 1 Axes>"
            ],
            "image/png": "[encoded data removed]"
          },
          "metadata": {}
        }
      ]
    },
    {
      "cell_type": "code",
      "source": [
        "from sklearn.metrics import classification_report\n",
        "print(classification_report(y_true, predicted_classes1))"
      ],
      "metadata": {
        "colab": {
          "base_uri": "https://localhost:8080/"
        },
        "id": "BlcWrLLhNfOi",
        "outputId": "92580b80-24f0-43bb-f64c-149c80dfa79d"
      },
      "execution_count": 34,
      "outputs": [
        {
          "output_type": "stream",
          "name": "stdout",
          "text": [
            "              precision    recall  f1-score   support\n",
            "\n",
            "           0       0.81      0.76      0.79        29\n",
            "           1       0.72      0.78      0.75        23\n",
            "\n",
            "    accuracy                           0.77        52\n",
            "   macro avg       0.77      0.77      0.77        52\n",
            "weighted avg       0.77      0.77      0.77        52\n",
            "\n"
          ]
        }
      ]
    },
    {
      "cell_type": "code",
      "source": [
        "from tensorflow.keras.preprocessing.sequence import pad_sequences\n",
        "import numpy as np\n",
        "\n",
        "def preprocess_and_predict(model, tokenizer, problem_text, solution_text, max_sequence_length):\n",
        "\n",
        "    input_text = np.array([problem_text + ' ' + solution_text])\n",
        "\n",
        "    input_text = input_text.astype('str')  # Ensure text is in string format\n",
        "    sequences = tokenizer.texts_to_sequences(input_text)\n",
        "    padded_sequences = pad_sequences(sequences, maxlen=max_sequence_length)\n",
        "\n",
        "\n",
        "    predictions = model.predict(padded_sequences)\n",
        "\n",
        "    predicted_class = np.argmax(predictions)\n",
        "\n",
        "    if predicted_class == 1:\n",
        "      print(\"The proposed problem and solution are relevant.\")\n",
        "    else:\n",
        "      print(\"The proposed problem and solution are not relevant.\")\n",
        "\n",
        "\n",
        "\n",
        "\n"
      ],
      "metadata": {
        "id": "0DFcW_tfuQ0T"
      },
      "execution_count": 21,
      "outputs": []
    },
    {
      "cell_type": "code",
      "source": [
        "problem = input(\"Propose a problem:\")\n",
        "solution = input(\"Propose a solution:\")\n",
        "\n",
        "preprocess_and_predict(model, tokenizer, problem, solution, 206)"
      ],
      "metadata": {
        "id": "fEU0tFQCzvqO",
        "colab": {
          "base_uri": "https://localhost:8080/"
        },
        "outputId": "1e8cecff-046d-4ac2-b5a5-79cfb38747b9"
      },
      "execution_count": 35,
      "outputs": [
        {
          "output_type": "stream",
          "name": "stdout",
          "text": [
            "Propose a problem:Largely considered the most urgent and impactful contemporary environmental crises by scientists and other experts, climate change is the most high-profile challenge facing the world today.\n",
            "Propose a solution:The single-most important thing that we can do to combat climate change is to drastically reduce our consumption of fossil fuels. The burning of coal, oil, and natural gas in our buildings, industrial processes, and transportation is responsible for the vast majority of emissions that are warming the planet—more than 75 percent. In addition to altering the climate, dirty energy also comes with unacceptable ecological and human health impacts. We must replace coal, oil, and gas with renewable and efficient energy sources.\n",
            "1/1 [==============================] - 0s 78ms/step\n",
            "The proposed problem and solution are relevant.\n"
          ]
        }
      ]
    },
    {
      "cell_type": "code",
      "source": [
        "\n",
        "\n",
        "with open('tokenizerGreenFilter.pickle', 'wb') as filter:\n",
        "    pickle.dump(tokenizer, filter, protocol=pickle.HIGHEST_PROTOCOL)"
      ],
      "metadata": {
        "id": "gK0KGdqJzzOJ"
      },
      "execution_count": 23,
      "outputs": []
    },
    {
      "cell_type": "code",
      "source": [
        "model_json = model.to_json()\n",
        "with open(\"GreenFilterModel.json\", \"w\") as json_file:\n",
        "  json_file.write(model_json)"
      ],
      "metadata": {
        "id": "H32hiDXSJleI"
      },
      "execution_count": 24,
      "outputs": []
    },
    {
      "cell_type": "code",
      "source": [],
      "metadata": {
        "id": "JCSZEdSM4xlb"
      },
      "execution_count": null,
      "outputs": []
    },
    {
      "cell_type": "markdown",
      "source": [
        "# WebUI"
      ],
      "metadata": {
        "id": "TdF1EDuAiYY0"
      }
    },
    {
      "cell_type": "code",
      "source": [
        "#This is pretty much identical to the one defined in Modelling, just so that for anyone that wants to run this and doesn't want to go through the hassle in the Modelling section in order to do so.\n",
        "def WebUIPredict(model, tokenizer, problem_text, solution_text):\n",
        "\n",
        "    input_text = np.array([problem_text + ' ' + solution_text])\n",
        "\n",
        "    input_text = input_text.astype('str')  # Ensure text is in string format\n",
        "    sequences = tokenizer.texts_to_sequences(input_text)\n",
        "    padded_sequences = pad_sequences(sequences, maxlen=206)\n",
        "\n",
        "\n",
        "    predictions = model.predict(padded_sequences)\n",
        "\n",
        "    predicted_class = np.argmax(predictions)\n",
        "    print(sequences)\n",
        "\n",
        "    if predicted_class == 1:\n",
        "      return True\n",
        "    else:\n",
        "      return False\n",
        "\n",
        "\n",
        "\n",
        "\n"
      ],
      "metadata": {
        "id": "lUt4G-tjijfg"
      },
      "execution_count": 7,
      "outputs": []
    },
    {
      "cell_type": "code",
      "source": [
        "tk = Tokenizer()\n",
        "with open('tokenizerGreenFilter.pickle', 'rb') as handle:\n",
        "    tk = pickle.load(handle)"
      ],
      "metadata": {
        "id": "7DrZxeAsjxGe"
      },
      "execution_count": 4,
      "outputs": []
    },
    {
      "cell_type": "code",
      "source": [
        "with open('GreenFilterModel.json', 'r') as json_file:\n",
        "  savedModel = json_file.read()"
      ],
      "metadata": {
        "id": "VtiyBOREkPHT"
      },
      "execution_count": 5,
      "outputs": []
    },
    {
      "cell_type": "code",
      "source": [
        "modelWB = tf.keras.models.model_from_json(savedModel)\n",
        "modelWB.load_weights('weights_GreenFilter.hdf5')"
      ],
      "metadata": {
        "id": "7f6iaXQ5mwkq"
      },
      "execution_count": 10,
      "outputs": []
    },
    {
      "cell_type": "code",
      "source": [
        "problemW = input(\"Propose a problem:\")\n",
        "solutionW = input(\"Propose a solution:\")\n",
        "\n",
        "WebUIPredict(modelWB, tk, problemW, solutionW)"
      ],
      "metadata": {
        "colab": {
          "base_uri": "https://localhost:8080/"
        },
        "id": "f6_L7hItk9O0",
        "outputId": "ecd793c0-239f-4edd-8897-145d6dd7f8b9"
      },
      "execution_count": 12,
      "outputs": [
        {
          "output_type": "stream",
          "name": "stdout",
          "text": [
            "Propose a problem:a\n",
            "Propose a solution:a\n",
            "1/1 [==============================] - 0s 97ms/step\n",
            "[[5, 5]]\n"
          ]
        },
        {
          "output_type": "execute_result",
          "data": {
            "text/plain": [
              "False"
            ]
          },
          "metadata": {},
          "execution_count": 12
        }
      ]
    },
    {
      "cell_type": "code",
      "source": [
        "%mkdir templates\n",
        "%cd templates\n",
        "!git clone -b ui https://github.com/Otm02/GreenFilter-AI ."
      ],
      "metadata": {
        "id": "9KAwopOUuQaX"
      },
      "execution_count": null,
      "outputs": []
    },
    {
      "cell_type": "code",
      "source": [
        "from google.colab.output import eval_js\n",
        "print(eval_js(\"google.colab.kernel.proxyPort(5000)\"))"
      ],
      "metadata": {
        "id": "pkBC4c1buwNc"
      },
      "execution_count": null,
      "outputs": []
    },
    {
      "cell_type": "code",
      "source": [
        "# Create a Flask app\n",
        "from flask import Flask, render_template, jsonify, request\n",
        "from google.colab.output import eval_js\n",
        "\n",
        "app = Flask(__name__, template_folder='.')\n",
        "\n",
        "# Define a route to render the HTML page\n",
        "@app.route('/')\n",
        "def index():\n",
        "    return render_template('bot.html')\n",
        "\n",
        "# Run the Flask app\n",
        "@app.route('/solve', methods=['POST'])\n",
        "def get_response():\n",
        "    problem = request.form.get('problem')\n",
        "    print(problem)\n",
        "    solution = request.form.get('solution')\n",
        "    print(solution)\n",
        "\n",
        "    # Check if both parameters are provided\n",
        "    if problem is None or solution is None:\n",
        "        return jsonify({'error': 'Both \"problem\" and \"solution\" parameters are required'}), 400\n",
        "\n",
        "    # Process the parameters and generate a response\n",
        "    answer = \"test\" #WebUIPredict(modelWB, tk, problem, solution)\n",
        "\n",
        "    # Return the response as JSON\n",
        "    return jsonify({'answer': answer})\n",
        "\n",
        "    return jsonify(data)\n",
        "if __name__ == '__main__':\n",
        "    app.run()"
      ],
      "metadata": {
        "id": "KmYTYZgblK7I"
      },
      "execution_count": null,
      "outputs": []
    }
  ]
}